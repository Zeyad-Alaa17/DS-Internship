{
 "cells": [
  {
   "cell_type": "code",
   "execution_count": 1,
   "metadata": {
    "execution": {
     "iopub.execute_input": "2021-08-29T17:57:01.111798Z",
     "iopub.status.busy": "2021-08-29T17:57:01.111426Z",
     "iopub.status.idle": "2021-08-29T17:57:03.296113Z",
     "shell.execute_reply": "2021-08-29T17:57:03.295309Z",
     "shell.execute_reply.started": "2021-08-29T17:57:01.111705Z"
    }
   },
   "outputs": [],
   "source": [
    "import pandas as pd\n",
    "import numpy as np\n",
    "# Data Visualizations\n",
    "import seaborn as sns\n",
    "import matplotlib.pyplot as plt\n",
    "sns.set(font_scale= 2)\n",
    "\n",
    "import re\n",
    "import string\n",
    "import os\n",
    "from tqdm import tqdm\n",
    "from time import time\n",
    "\n",
    "\n",
    "import torch\n",
    "import torch.optim as optim\n",
    "import torch.nn as nn\n",
    "import torch.nn.functional as F\n",
    "from torch.utils.data import DataLoader, ConcatDataset\n",
    "from torchvision import transforms, datasets, models\n",
    "from PIL import Image\n",
    "\n",
    "from sklearn import model_selection\n",
    "from sklearn.metrics import confusion_matrix, classification_report"
   ]
  },
  {
   "cell_type": "markdown",
   "metadata": {},
   "source": [
    "### Device"
   ]
  },
  {
   "cell_type": "code",
   "execution_count": 2,
   "metadata": {
    "execution": {
     "iopub.execute_input": "2021-08-29T17:57:03.297772Z",
     "iopub.status.busy": "2021-08-29T17:57:03.297456Z",
     "iopub.status.idle": "2021-08-29T17:57:03.357816Z",
     "shell.execute_reply": "2021-08-29T17:57:03.356881Z",
     "shell.execute_reply.started": "2021-08-29T17:57:03.297738Z"
    }
   },
   "outputs": [
    {
     "name": "stdout",
     "output_type": "stream",
     "text": [
      "GPU:Tesla P100-PCIE-16GB\n"
     ]
    }
   ],
   "source": [
    "if torch.cuda.is_available():\n",
    "    print(f\"GPU:{torch.cuda.get_device_name()}\")\n",
    "    DEVICE = torch.device('cuda')\n",
    "else:\n",
    "    DEVICE = torch.device('cpu')\n",
    "    print(DEVICE)"
   ]
  },
  {
   "cell_type": "markdown",
   "metadata": {},
   "source": [
    "### Helper Methods"
   ]
  },
  {
   "cell_type": "code",
   "execution_count": 3,
   "metadata": {
    "execution": {
     "iopub.execute_input": "2021-08-29T17:57:03.366832Z",
     "iopub.status.busy": "2021-08-29T17:57:03.366476Z",
     "iopub.status.idle": "2021-08-29T17:57:03.380729Z",
     "shell.execute_reply": "2021-08-29T17:57:03.379703Z",
     "shell.execute_reply.started": "2021-08-29T17:57:03.366792Z"
    }
   },
   "outputs": [],
   "source": [
    "\n",
    "def remainig_time(tt):\n",
    "    if tt/60 < 1:\n",
    "        return \"{} sec\".format(int(tt))\n",
    "    if tt/60/60 < 1:\n",
    "        return \"{} min\".format(int(tt/60))\n",
    "    if tt/60/60/24 < 1:\n",
    "        mins = tt/60\n",
    "        hrs = mins/60\n",
    "        return \"{:.2f} hrs\".format(hrs)\n",
    "    if tt/60/60/24 > 1:\n",
    "        days = tt/60/60/24\n",
    "        return \"{:.2f} days\".format(days)\n",
    "\n",
    "\n",
    "def save_model(model, optim, loss_train, loss_val, acc_train, acc_val, epoch, model_name, model_path=''):\n",
    "    torch.save({\n",
    "        'model_state_dict': model.state_dict(),\n",
    "        'optimizer_state_dict': optim.state_dict(),\n",
    "        'loss_train': loss_train,\n",
    "        'loss_val': loss_val,\n",
    "        'epoch': epoch,\n",
    "        'acc_train': acc_train,\n",
    "        'acc_val': acc_val,\n",
    "    }, os.path.join(model_path, model_name))\n",
    "\n",
    "\n",
    "def load_model(model_path, device=DEVICE):\n",
    "    return torch.load(model_path, map_location=device)"
   ]
  },
  {
   "cell_type": "markdown",
   "metadata": {},
   "source": [
    "### Constants"
   ]
  },
  {
   "cell_type": "code",
   "execution_count": 4,
   "metadata": {
    "execution": {
     "iopub.execute_input": "2021-08-29T17:57:03.386686Z",
     "iopub.status.busy": "2021-08-29T17:57:03.385839Z",
     "iopub.status.idle": "2021-08-29T17:57:03.402821Z",
     "shell.execute_reply": "2021-08-29T17:57:03.401488Z",
     "shell.execute_reply.started": "2021-08-29T17:57:03.386582Z"
    }
   },
   "outputs": [],
   "source": [
    "# Hyper Parameters (You can change as you like ... and see how it affects the results)\n",
    "LR = 3e-5\n",
    "BATCH_SIZE = 32\n",
    "IMG_WIDTH = 224\n",
    "IMG_HEIGHT = 224\n",
    "IMG_RESIZE = (IMG_HEIGHT, IMG_WIDTH)\n",
    "EPOCHS = 100\n",
    "# Constants\n",
    "NUM_WORKERS = 3 # Based on the \n",
    "NUM_CLASSES = 2\n",
    "CLASSESES = ['NORMAL', 'PNEUMONIA']\n",
    "CHANNELS = 1\n",
    "MIN_ACC = float('-inf')\n",
    "# Data Path\n",
    "DATA_PATH = '../input/chest-xray-pneumonia/chest_xray/'\n",
    "TRAIN_DATA_PATH = os.path.join(DATA_PATH, 'train/')\n",
    "VAL_DATA_PATH = os.path.join(DATA_PATH, 'val/')\n",
    "TEST_DATA_PATH = os.path.join(DATA_PATH, 'test/')"
   ]
  },
  {
   "cell_type": "markdown",
   "metadata": {},
   "source": [
    "### Create Your Pipeline of image transformation"
   ]
  },
  {
   "cell_type": "code",
   "execution_count": 5,
   "metadata": {
    "execution": {
     "iopub.execute_input": "2021-08-29T17:57:03.410077Z",
     "iopub.status.busy": "2021-08-29T17:57:03.409278Z",
     "iopub.status.idle": "2021-08-29T17:57:03.418588Z",
     "shell.execute_reply": "2021-08-29T17:57:03.417578Z",
     "shell.execute_reply.started": "2021-08-29T17:57:03.410024Z"
    }
   },
   "outputs": [],
   "source": [
    "# Transformation\n",
    "TR = transforms.Compose([\n",
    "    transforms.ToPILImage(),\n",
    "    transforms.Grayscale(), # 1- convert to GrayScale,\n",
    "    transforms.Resize(IMG_RESIZE), # 2- Resize the Image,\n",
    "    transforms.ToTensor(), # 3- Convert Image data into tensor,\n",
    "    transforms.Normalize(mean=0.5,std=0.5,inplace=True) # 4- Normalize your Image with mean=0.5, std=0.5 \n",
    "])"
   ]
  },
  {
   "cell_type": "markdown",
   "metadata": {},
   "source": [
    "### Dataset Preparation"
   ]
  },
  {
   "cell_type": "code",
   "execution_count": 6,
   "metadata": {
    "execution": {
     "iopub.execute_input": "2021-08-29T17:57:03.423621Z",
     "iopub.status.busy": "2021-08-29T17:57:03.419871Z",
     "iopub.status.idle": "2021-08-29T17:57:07.691001Z",
     "shell.execute_reply": "2021-08-29T17:57:07.690138Z",
     "shell.execute_reply.started": "2021-08-29T17:57:03.423468Z"
    }
   },
   "outputs": [],
   "source": [
    "train_data=datasets.ImageFolder(root=TRAIN_DATA_PATH, transform=TR)\n",
    "val_data=datasets.ImageFolder(root=VAL_DATA_PATH, transform=TR)\n",
    "test_data = datasets.ImageFolder(root=TEST_DATA_PATH, transform=TR)"
   ]
  },
  {
   "cell_type": "code",
   "execution_count": 7,
   "metadata": {
    "execution": {
     "iopub.execute_input": "2021-08-29T17:57:07.692662Z",
     "iopub.status.busy": "2021-08-29T17:57:07.692299Z",
     "iopub.status.idle": "2021-08-29T17:57:07.711150Z",
     "shell.execute_reply": "2021-08-29T17:57:07.710357Z",
     "shell.execute_reply.started": "2021-08-29T17:57:07.692630Z"
    }
   },
   "outputs": [
    {
     "name": "stdout",
     "output_type": "stream",
     "text": [
      "CPU times: user 6.28 ms, sys: 1.2 ms, total: 7.48 ms\n",
      "Wall time: 9.35 ms\n"
     ]
    }
   ],
   "source": [
    "%%time\n",
    "df_train=pd.DataFrame(train_data.imgs,columns=[\"image_path\", \"label\"])\n",
    "df_val=pd.DataFrame(val_data.imgs,columns=[\"image_path\", \"label\"])\n",
    "df_combined = pd.concat([df_train, df_val],ignore_index=True)\n",
    "## Training And Validation Data Combined with columns: [image_path, label]\n",
    "df_test = pd.DataFrame(test_data.imgs,columns=[\"image_path\", \"label\"])## Testing Data with columns: [image_path, label]"
   ]
  },
  {
   "cell_type": "code",
   "execution_count": 8,
   "metadata": {
    "execution": {
     "iopub.execute_input": "2021-08-29T17:57:07.714643Z",
     "iopub.status.busy": "2021-08-29T17:57:07.714367Z",
     "iopub.status.idle": "2021-08-29T17:57:07.721113Z",
     "shell.execute_reply": "2021-08-29T17:57:07.720120Z",
     "shell.execute_reply.started": "2021-08-29T17:57:07.714618Z"
    }
   },
   "outputs": [
    {
     "name": "stdout",
     "output_type": "stream",
     "text": [
      "Images in Training set: 5,232\n",
      "Images in Testing set: 624\n"
     ]
    }
   ],
   "source": [
    "print(f\"Images in Training set: {df_combined.shape[0]:,}\")\n",
    "print(f\"Images in Testing set: {df_test.shape[0]:,}\")"
   ]
  },
  {
   "cell_type": "code",
   "execution_count": 9,
   "metadata": {
    "execution": {
     "iopub.execute_input": "2021-08-29T17:57:07.723718Z",
     "iopub.status.busy": "2021-08-29T17:57:07.723323Z",
     "iopub.status.idle": "2021-08-29T17:57:07.743885Z",
     "shell.execute_reply": "2021-08-29T17:57:07.742967Z",
     "shell.execute_reply.started": "2021-08-29T17:57:07.723681Z"
    }
   },
   "outputs": [
    {
     "data": {
      "text/html": [
       "<div>\n",
       "<style scoped>\n",
       "    .dataframe tbody tr th:only-of-type {\n",
       "        vertical-align: middle;\n",
       "    }\n",
       "\n",
       "    .dataframe tbody tr th {\n",
       "        vertical-align: top;\n",
       "    }\n",
       "\n",
       "    .dataframe thead th {\n",
       "        text-align: right;\n",
       "    }\n",
       "</style>\n",
       "<table border=\"1\" class=\"dataframe\">\n",
       "  <thead>\n",
       "    <tr style=\"text-align: right;\">\n",
       "      <th></th>\n",
       "      <th>image_path</th>\n",
       "      <th>label</th>\n",
       "    </tr>\n",
       "  </thead>\n",
       "  <tbody>\n",
       "    <tr>\n",
       "      <th>4024</th>\n",
       "      <td>../input/chest-xray-pneumonia/chest_xray/train...</td>\n",
       "      <td>1</td>\n",
       "    </tr>\n",
       "    <tr>\n",
       "      <th>3082</th>\n",
       "      <td>../input/chest-xray-pneumonia/chest_xray/train...</td>\n",
       "      <td>1</td>\n",
       "    </tr>\n",
       "    <tr>\n",
       "      <th>428</th>\n",
       "      <td>../input/chest-xray-pneumonia/chest_xray/train...</td>\n",
       "      <td>0</td>\n",
       "    </tr>\n",
       "  </tbody>\n",
       "</table>\n",
       "</div>"
      ],
      "text/plain": [
       "                                             image_path  label\n",
       "4024  ../input/chest-xray-pneumonia/chest_xray/train...      1\n",
       "3082  ../input/chest-xray-pneumonia/chest_xray/train...      1\n",
       "428   ../input/chest-xray-pneumonia/chest_xray/train...      0"
      ]
     },
     "execution_count": 9,
     "metadata": {},
     "output_type": "execute_result"
    }
   ],
   "source": [
    "df_train.sample(3)"
   ]
  },
  {
   "cell_type": "code",
   "execution_count": 10,
   "metadata": {
    "execution": {
     "iopub.execute_input": "2021-08-29T17:57:07.745443Z",
     "iopub.status.busy": "2021-08-29T17:57:07.745109Z",
     "iopub.status.idle": "2021-08-29T17:57:07.752061Z",
     "shell.execute_reply": "2021-08-29T17:57:07.751108Z",
     "shell.execute_reply.started": "2021-08-29T17:57:07.745410Z"
    }
   },
   "outputs": [
    {
     "data": {
      "text/plain": [
       "'../input/chest-xray-pneumonia/chest_xray/train/NORMAL/IM-0115-0001.jpeg'"
      ]
     },
     "execution_count": 10,
     "metadata": {},
     "output_type": "execute_result"
    }
   ],
   "source": [
    "df_train.image_path[0]"
   ]
  },
  {
   "cell_type": "code",
   "execution_count": 11,
   "metadata": {
    "execution": {
     "iopub.execute_input": "2021-08-29T17:57:07.754042Z",
     "iopub.status.busy": "2021-08-29T17:57:07.753356Z",
     "iopub.status.idle": "2021-08-29T17:57:07.883597Z",
     "shell.execute_reply": "2021-08-29T17:57:07.882783Z",
     "shell.execute_reply.started": "2021-08-29T17:57:07.754007Z"
    }
   },
   "outputs": [
    {
     "data": {
      "image/png": "[encoded data removed]",
      "text/plain": [
       "<Figure size 432x288 with 1 Axes>"
      ]
     },
     "metadata": {},
     "output_type": "display_data"
    }
   ],
   "source": [
    "ax = sns.countplot(x=df_train['label'])# Take a look at the Target Variable"
   ]
  },
  {
   "cell_type": "markdown",
   "metadata": {},
   "source": [
    "Now given this high bias in our dataset ... we will fix it using 2 tricks ...\n",
    "  - weighted loss   \n",
    "  \n",
    "  so when our model **wrongly predict class 0** (the minority class) ... we **punish him more than** if he predicted class 1 wrong (the majority class)\n",
    "  - Balance the Evaluation dataset  \n",
    "  \n",
    "  we make our evalution dataset has same number of **class 0 and class 1** ... in-order to make the right decision when model has high accuracy"
   ]
  },
  {
   "cell_type": "markdown",
   "metadata": {},
   "source": [
    "### Weighted Loss"
   ]
  },
  {
   "cell_type": "code",
   "execution_count": 12,
   "metadata": {
    "execution": {
     "iopub.execute_input": "2021-08-29T17:57:07.885089Z",
     "iopub.status.busy": "2021-08-29T17:57:07.884738Z",
     "iopub.status.idle": "2021-08-29T17:57:07.894853Z",
     "shell.execute_reply": "2021-08-29T17:57:07.893925Z",
     "shell.execute_reply.started": "2021-08-29T17:57:07.885022Z"
    }
   },
   "outputs": [
    {
     "data": {
      "text/plain": [
       "1    3883\n",
       "0    1349\n",
       "Name: label, dtype: int64"
      ]
     },
     "execution_count": 12,
     "metadata": {},
     "output_type": "execute_result"
    }
   ],
   "source": [
    "df_combined['label'].value_counts()"
   ]
  },
  {
   "cell_type": "code",
   "execution_count": 13,
   "metadata": {
    "execution": {
     "iopub.execute_input": "2021-08-29T17:57:07.897146Z",
     "iopub.status.busy": "2021-08-29T17:57:07.896416Z",
     "iopub.status.idle": "2021-08-29T17:57:12.144314Z",
     "shell.execute_reply": "2021-08-29T17:57:12.143301Z",
     "shell.execute_reply.started": "2021-08-29T17:57:07.897110Z"
    }
   },
   "outputs": [
    {
     "name": "stdout",
     "output_type": "stream",
     "text": [
      "tensor([0.7422, 0.2578], device='cuda:0')\n"
     ]
    }
   ],
   "source": [
    "## Apply Weighted Loss w.r.t Size of label\n",
    "## So class with low number of images get higher weight\n",
    "## while class with High number of images get lower weight\n",
    "n = [1349 ,3883]\n",
    "weights = [1 - 1349 / sum(n) ,1 - 3883 / sum(n) ]\n",
    "weights = torch.FloatTensor(weights)\n",
    "weight = weights ## Write your code here\n",
    "criterion = nn.NLLLoss(weight= weight).to(DEVICE)\n",
    "# Show the Weights (should be close to this ==> [0.74, 0.25])\n",
    "print(criterion.weight)"
   ]
  },
  {
   "cell_type": "markdown",
   "metadata": {},
   "source": [
    "#### Training method"
   ]
  },
  {
   "cell_type": "code",
   "execution_count": 14,
   "metadata": {
    "execution": {
     "iopub.execute_input": "2021-08-29T17:57:12.146087Z",
     "iopub.status.busy": "2021-08-29T17:57:12.145584Z",
     "iopub.status.idle": "2021-08-29T17:57:12.154383Z",
     "shell.execute_reply": "2021-08-29T17:57:12.153499Z",
     "shell.execute_reply.started": "2021-08-29T17:57:12.146031Z"
    }
   },
   "outputs": [],
   "source": [
    "def train_fn(batches, model, optim, device=DEVICE):\n",
    "    model.train() # set the model mode => training\n",
    "    batch_acc = 0\n",
    "    ep_loss = 0\n",
    "    # Loop through the training batches\n",
    "    for batch in tqdm(batches, total=len(batches), position=0, leave=True):\n",
    "        \n",
    "        imgs, labels = batch# Get Your image and targets from the given batch\n",
    "        imgs, labels = imgs.to(device), labels.to(device)\n",
    "        # Forward Propagation\n",
    "        labels_pred = model(imgs)## Get Your predictions from model\n",
    "        # Calculate Loss\n",
    "        optimizer.zero_grad() ## - Zero your optimizer gradients\n",
    "        loss = criterion(labels_pred,labels)## Get your loss bet. Predictions and Targets\n",
    "        loss.backward()# Backward propagation (Check: https://discuss.pytorch.org/t/what-does-the-backward-function-do/9944)\n",
    "        ## - Calculate loss gradient\n",
    "        optimizer.step()## - Make step with optimizer\n",
    "        ## - Accumulating Loss & Accuracy Across batches\n",
    "        ep_loss += loss.item()\n",
    "        batch_acc += sum(labels == labels_pred.argmax(1)).item()\n",
    "    # Calculate The whole Epoch Accuracy after the batches loop ends\n",
    "    ep_acc = batch_acc / (BATCH_SIZE * len(batches))\n",
    "    ## Return the ep_loss and the ep_acc\n",
    "    return ep_loss, ep_acc"
   ]
  },
  {
   "cell_type": "markdown",
   "metadata": {},
   "source": [
    "#### Evaluation method"
   ]
  },
  {
   "cell_type": "code",
   "execution_count": 15,
   "metadata": {
    "execution": {
     "iopub.execute_input": "2021-08-29T17:57:12.156034Z",
     "iopub.status.busy": "2021-08-29T17:57:12.155690Z",
     "iopub.status.idle": "2021-08-29T17:57:12.165948Z",
     "shell.execute_reply": "2021-08-29T17:57:12.165076Z",
     "shell.execute_reply.started": "2021-08-29T17:57:12.156000Z"
    }
   },
   "outputs": [],
   "source": [
    "def eval_fn(batches, model, device=DEVICE):\n",
    "    \"\"\"\n",
    "    Calculate the model accuracy & loss on given eval data ... no training is needed here\n",
    "    just prediction and comparing results\n",
    "    \"\"\"\n",
    "    ## Write your code here\n",
    "    batch_acc = 0\n",
    "    ep_loss = 0\n",
    "    # Loop through the training batches\n",
    "    for batch in tqdm(batches, total=len(batches), position=0, leave=True):\n",
    "        \n",
    "        imgs, labels = batch# Get Your image and targets from the given batch\n",
    "        imgs, labels = imgs.to(device), labels.to(device)\n",
    "        # Forward Propagation\n",
    "        labels_pred = model(imgs)## Get Your predictions from model\n",
    "        # Calculate Loss\n",
    "        loss = criterion(labels_pred,labels)## Get your loss bet. Predictions and Targets\n",
    "        ep_loss += loss.item()\n",
    "        batch_acc += sum(labels == labels_pred.argmax(1)).item()\n",
    "    # Calculate The whole Epoch Accuracy after the batches loop ends\n",
    "    ep_acc = batch_acc / (BATCH_SIZE * len(batches))\n",
    "    ## Return the ep_loss and the ep_acc\n",
    "    return ep_loss, ep_acc"
   ]
  },
  {
   "cell_type": "markdown",
   "metadata": {},
   "source": [
    "#### Prediction method"
   ]
  },
  {
   "cell_type": "code",
   "execution_count": 16,
   "metadata": {
    "execution": {
     "iopub.execute_input": "2021-08-29T17:57:12.168780Z",
     "iopub.status.busy": "2021-08-29T17:57:12.168427Z",
     "iopub.status.idle": "2021-08-29T17:57:12.178791Z",
     "shell.execute_reply": "2021-08-29T17:57:12.177878Z",
     "shell.execute_reply.started": "2021-08-29T17:57:12.168735Z"
    }
   },
   "outputs": [],
   "source": [
    "def pred_fn(batches, model, device=DEVICE):\n",
    "    \"\"\"\n",
    "    Predict Test batches\n",
    "    Args:\n",
    "        batches (generator): Test Batches\n",
    "        model (model object): Trained Model\n",
    "        device (gpu/cpu device, optional): active device. Defaults to DEVICE.\n",
    "\n",
    "    Returns:\n",
    "        predictions: List of predictions\n",
    "        true_labels: List of true labels\n",
    "    \"\"\"\n",
    "    ## Write your code here\n",
    "    predictions, true_labels = 0,0\n",
    "    for batch in tqdm(batches, total=len(batches), position=0, leave=True):\n",
    "        \n",
    "        imgs, labels = batch# Get Your image and targets from the given batch\n",
    "        imgs, labels = imgs.to(device), labels.to(device)\n",
    "        # Forward Propagation\n",
    "        labels_pred = model(imgs)## Get Your predictions from model\n",
    "        true_labels += labels\n",
    "        predictions += labels_pred\n",
    "    \n",
    "    \n",
    "    return predictions, true_labels"
   ]
  },
  {
   "cell_type": "markdown",
   "metadata": {},
   "source": [
    "### Dataset Class"
   ]
  },
  {
   "cell_type": "code",
   "execution_count": 17,
   "metadata": {
    "execution": {
     "iopub.execute_input": "2021-08-29T17:57:12.181106Z",
     "iopub.status.busy": "2021-08-29T17:57:12.179719Z",
     "iopub.status.idle": "2021-08-29T17:57:12.327183Z",
     "shell.execute_reply": "2021-08-29T17:57:12.326299Z",
     "shell.execute_reply.started": "2021-08-29T17:57:12.181042Z"
    }
   },
   "outputs": [],
   "source": [
    "import cv2"
   ]
  },
  {
   "cell_type": "code",
   "execution_count": 18,
   "metadata": {
    "execution": {
     "iopub.execute_input": "2021-08-29T17:57:12.328973Z",
     "iopub.status.busy": "2021-08-29T17:57:12.328585Z",
     "iopub.status.idle": "2021-08-29T17:57:12.337448Z",
     "shell.execute_reply": "2021-08-29T17:57:12.336603Z",
     "shell.execute_reply.started": "2021-08-29T17:57:12.328934Z"
    }
   },
   "outputs": [],
   "source": [
    "class Dataset():\n",
    "\n",
    "    def __init__(self, img_paths, targets, transform=None):\n",
    "        self.img_paths = img_paths\n",
    "        self.targets = targets\n",
    "        self.transform = transform\n",
    "        self.class_map = {\"NORMAL\" : 0, \"PNEUMONIA\": 1}\n",
    "        self.img_dim = IMG_RESIZE\n",
    "    def __len__(self):\n",
    "        return len(self.img_paths) ## Write your code here\n",
    "\n",
    "    def __getitem__(self, item):\n",
    "        target = self.targets[item]\n",
    "        image = cv2.imread(self.img_paths[item])\n",
    "        image = cv2.cvtColor(image, cv2.COLOR_BGR2RGB)\n",
    "        if self.transform is not None:\n",
    "            image = self.transform(image)\n",
    "        image = np.transpose(image,(2,0,1)).astype(np.float32)\n",
    "        \n",
    "        return {\n",
    "            'images': torch.tensor(image) ## Write your code here,\n",
    "            ,'targets': torch.tensor(target) ## Write your code here\n",
    "            }"
   ]
  },
  {
   "cell_type": "markdown",
   "metadata": {},
   "source": [
    "### Model"
   ]
  },
  {
   "cell_type": "code",
   "execution_count": 19,
   "metadata": {
    "execution": {
     "iopub.execute_input": "2021-08-29T17:57:12.339137Z",
     "iopub.status.busy": "2021-08-29T17:57:12.338787Z",
     "iopub.status.idle": "2021-08-29T17:57:12.720958Z",
     "shell.execute_reply": "2021-08-29T17:57:12.720059Z",
     "shell.execute_reply.started": "2021-08-29T17:57:12.339104Z"
    }
   },
   "outputs": [
    {
     "name": "stdout",
     "output_type": "stream",
     "text": [
      "XrayClassifier(\n",
      "  (conv1): Conv2d(1, 32, kernel_size=(5, 5), stride=(1, 1))\n",
      "  (conv2): Conv2d(32, 64, kernel_size=(5, 5), stride=(1, 1))\n",
      "  (conv3): Conv2d(64, 128, kernel_size=(5, 5), stride=(1, 1))\n",
      "  (fc1): Linear(in_features=73728, out_features=512, bias=True)\n",
      "  (fc2): Linear(in_features=512, out_features=2, bias=True)\n",
      ")\n"
     ]
    }
   ],
   "source": [
    "class XrayClassifier(nn.Module):\n",
    "    def __init__(self):\n",
    "        super().__init__() # just run the init of parent class (nn.Module)\n",
    "        self.conv1 = nn.Conv2d(1, 32, 5) # input is 1 image, 32 output channels, 5x5 kernel / window\n",
    "        self.conv2 = nn.Conv2d(32, 64, 5) # input is 32, bc the first layer output 32. Then we say the output will be 64 channels, 5x5 kernel / window\n",
    "        self.conv3 = nn.Conv2d(64, 128, 5)\n",
    "\n",
    "        x = torch.randn(224,224).view(-1,1,224,224)\n",
    "        self._to_linear = None\n",
    "        self.convs(x)\n",
    "\n",
    "        self.fc1 = nn.Linear(self._to_linear, 512) #flattening.\n",
    "        self.fc2 = nn.Linear(512, 2) # 512 in, 2 out bc we're doing 2 classes (dog vs cat).\n",
    "\n",
    "    def convs(self, x):\n",
    "        # max pooling over 2x2\n",
    "        x = F.max_pool2d(F.relu(self.conv1(x)), (2, 2))\n",
    "        x = F.max_pool2d(F.relu(self.conv2(x)), (2, 2))\n",
    "        x = F.max_pool2d(F.relu(self.conv3(x)), (2, 2))\n",
    "\n",
    "        if self._to_linear is None:\n",
    "            self._to_linear = x[0].shape[0]*x[0].shape[1]*x[0].shape[2]\n",
    "        return x\n",
    "\n",
    "    def forward(self, x):\n",
    "        x = self.convs(x)\n",
    "        x = x.view(-1, self._to_linear)  # .view is reshape ... this flattens X before \n",
    "        x = F.relu(self.fc1(x))\n",
    "        x = self.fc2(x) # bc this is our output layer. No activation here.\n",
    "        return F.log_softmax(x, dim=1)\n",
    "\n",
    "\n",
    "clf = XrayClassifier()\n",
    "print(clf)"
   ]
  },
  {
   "cell_type": "markdown",
   "metadata": {},
   "source": [
    "##### Test your model with random input"
   ]
  },
  {
   "cell_type": "code",
   "execution_count": 20,
   "metadata": {
    "execution": {
     "iopub.execute_input": "2021-08-29T17:57:12.722741Z",
     "iopub.status.busy": "2021-08-29T17:57:12.722264Z",
     "iopub.status.idle": "2021-08-29T17:57:13.154222Z",
     "shell.execute_reply": "2021-08-29T17:57:13.153435Z",
     "shell.execute_reply.started": "2021-08-29T17:57:12.722687Z"
    }
   },
   "outputs": [
    {
     "name": "stdout",
     "output_type": "stream",
     "text": [
      "torch.Size([1, 2])\n"
     ]
    },
    {
     "data": {
      "text/plain": [
       "tensor([[-0.7389, -0.6494]], grad_fn=<LogSoftmaxBackward>)"
      ]
     },
     "execution_count": 20,
     "metadata": {},
     "output_type": "execute_result"
    }
   ],
   "source": [
    "IMG_WIDTH = 224\n",
    "IMG_HEIGHT = 224\n",
    "CHANNELS = 1\n",
    "BS = 1 # Batch Size\n",
    "ex = torch.rand(BS, CHANNELS, IMG_WIDTH, IMG_HEIGHT)\n",
    "model = XrayClassifier()\n",
    "model.eval()\n",
    "out = model(ex)\n",
    "print(out.shape)\n",
    "out"
   ]
  },
  {
   "cell_type": "markdown",
   "metadata": {},
   "source": [
    "### Split your Dataset"
   ]
  },
  {
   "cell_type": "code",
   "execution_count": 21,
   "metadata": {
    "execution": {
     "iopub.execute_input": "2021-08-29T17:57:13.155840Z",
     "iopub.status.busy": "2021-08-29T17:57:13.155498Z",
     "iopub.status.idle": "2021-08-29T17:57:13.175823Z",
     "shell.execute_reply": "2021-08-29T17:57:13.175018Z",
     "shell.execute_reply.started": "2021-08-29T17:57:13.155802Z"
    }
   },
   "outputs": [],
   "source": [
    "# Sample from positive reviews Same number of negative reviews\n",
    "NEG_N = df_combined['label'].value_counts()[0]\n",
    "df_pos = df_combined[df_combined['label'] == 1]['label'].sample(NEG_N, replace=False)\n",
    "df_balanced = pd.concat([df_combined.iloc[df_pos.index], df_combined[df_combined.label == 0]])"
   ]
  },
  {
   "cell_type": "code",
   "execution_count": 22,
   "metadata": {
    "execution": {
     "iopub.execute_input": "2021-08-29T17:57:13.177589Z",
     "iopub.status.busy": "2021-08-29T17:57:13.177032Z",
     "iopub.status.idle": "2021-08-29T17:57:13.287324Z",
     "shell.execute_reply": "2021-08-29T17:57:13.286367Z",
     "shell.execute_reply.started": "2021-08-29T17:57:13.177553Z"
    }
   },
   "outputs": [
    {
     "data": {
      "image/png": "[encoded data removed]",
      "text/plain": [
       "<Figure size 432x288 with 1 Axes>"
      ]
     },
     "metadata": {},
     "output_type": "display_data"
    }
   ],
   "source": [
    "ax = sns.countplot(x=df_balanced['label']) ## Write your code here"
   ]
  },
  {
   "cell_type": "code",
   "execution_count": 23,
   "metadata": {
    "execution": {
     "iopub.execute_input": "2021-08-29T17:57:13.291135Z",
     "iopub.status.busy": "2021-08-29T17:57:13.290880Z",
     "iopub.status.idle": "2021-08-29T17:57:13.301719Z",
     "shell.execute_reply": "2021-08-29T17:57:13.300871Z",
     "shell.execute_reply.started": "2021-08-29T17:57:13.291110Z"
    }
   },
   "outputs": [
    {
     "data": {
      "text/html": [
       "<div>\n",
       "<style scoped>\n",
       "    .dataframe tbody tr th:only-of-type {\n",
       "        vertical-align: middle;\n",
       "    }\n",
       "\n",
       "    .dataframe tbody tr th {\n",
       "        vertical-align: top;\n",
       "    }\n",
       "\n",
       "    .dataframe thead th {\n",
       "        text-align: right;\n",
       "    }\n",
       "</style>\n",
       "<table border=\"1\" class=\"dataframe\">\n",
       "  <thead>\n",
       "    <tr style=\"text-align: right;\">\n",
       "      <th></th>\n",
       "      <th>image_path</th>\n",
       "      <th>label</th>\n",
       "    </tr>\n",
       "  </thead>\n",
       "  <tbody>\n",
       "    <tr>\n",
       "      <th>4862</th>\n",
       "      <td>../input/chest-xray-pneumonia/chest_xray/train...</td>\n",
       "      <td>1</td>\n",
       "    </tr>\n",
       "    <tr>\n",
       "      <th>3686</th>\n",
       "      <td>../input/chest-xray-pneumonia/chest_xray/train...</td>\n",
       "      <td>1</td>\n",
       "    </tr>\n",
       "    <tr>\n",
       "      <th>1707</th>\n",
       "      <td>../input/chest-xray-pneumonia/chest_xray/train...</td>\n",
       "      <td>1</td>\n",
       "    </tr>\n",
       "    <tr>\n",
       "      <th>3566</th>\n",
       "      <td>../input/chest-xray-pneumonia/chest_xray/train...</td>\n",
       "      <td>1</td>\n",
       "    </tr>\n",
       "    <tr>\n",
       "      <th>4605</th>\n",
       "      <td>../input/chest-xray-pneumonia/chest_xray/train...</td>\n",
       "      <td>1</td>\n",
       "    </tr>\n",
       "    <tr>\n",
       "      <th>...</th>\n",
       "      <td>...</td>\n",
       "      <td>...</td>\n",
       "    </tr>\n",
       "    <tr>\n",
       "      <th>5219</th>\n",
       "      <td>../input/chest-xray-pneumonia/chest_xray/val/N...</td>\n",
       "      <td>0</td>\n",
       "    </tr>\n",
       "    <tr>\n",
       "      <th>5220</th>\n",
       "      <td>../input/chest-xray-pneumonia/chest_xray/val/N...</td>\n",
       "      <td>0</td>\n",
       "    </tr>\n",
       "    <tr>\n",
       "      <th>5221</th>\n",
       "      <td>../input/chest-xray-pneumonia/chest_xray/val/N...</td>\n",
       "      <td>0</td>\n",
       "    </tr>\n",
       "    <tr>\n",
       "      <th>5222</th>\n",
       "      <td>../input/chest-xray-pneumonia/chest_xray/val/N...</td>\n",
       "      <td>0</td>\n",
       "    </tr>\n",
       "    <tr>\n",
       "      <th>5223</th>\n",
       "      <td>../input/chest-xray-pneumonia/chest_xray/val/N...</td>\n",
       "      <td>0</td>\n",
       "    </tr>\n",
       "  </tbody>\n",
       "</table>\n",
       "<p>2698 rows × 2 columns</p>\n",
       "</div>"
      ],
      "text/plain": [
       "                                             image_path  label\n",
       "4862  ../input/chest-xray-pneumonia/chest_xray/train...      1\n",
       "3686  ../input/chest-xray-pneumonia/chest_xray/train...      1\n",
       "1707  ../input/chest-xray-pneumonia/chest_xray/train...      1\n",
       "3566  ../input/chest-xray-pneumonia/chest_xray/train...      1\n",
       "4605  ../input/chest-xray-pneumonia/chest_xray/train...      1\n",
       "...                                                 ...    ...\n",
       "5219  ../input/chest-xray-pneumonia/chest_xray/val/N...      0\n",
       "5220  ../input/chest-xray-pneumonia/chest_xray/val/N...      0\n",
       "5221  ../input/chest-xray-pneumonia/chest_xray/val/N...      0\n",
       "5222  ../input/chest-xray-pneumonia/chest_xray/val/N...      0\n",
       "5223  ../input/chest-xray-pneumonia/chest_xray/val/N...      0\n",
       "\n",
       "[2698 rows x 2 columns]"
      ]
     },
     "execution_count": 23,
     "metadata": {},
     "output_type": "execute_result"
    }
   ],
   "source": [
    "df_balanced"
   ]
  },
  {
   "cell_type": "code",
   "execution_count": 24,
   "metadata": {
    "execution": {
     "iopub.execute_input": "2021-08-29T17:57:13.304324Z",
     "iopub.status.busy": "2021-08-29T17:57:13.303674Z",
     "iopub.status.idle": "2021-08-29T17:57:13.317406Z",
     "shell.execute_reply": "2021-08-29T17:57:13.316274Z",
     "shell.execute_reply.started": "2021-08-29T17:57:13.304271Z"
    }
   },
   "outputs": [
    {
     "name": "stdout",
     "output_type": "stream",
     "text": [
      "2,158 Training imgs\n",
      "540 Validation imgs\n"
     ]
    }
   ],
   "source": [
    "from sklearn.model_selection import train_test_split\n",
    "\n",
    "# Train Test Split with your custome balanced method\n",
    "train_imgs, val_imgs, train_labels, val_labels = train_test_split(df_balanced['image_path'], df_balanced['label'], test_size=0.2, random_state=42,stratify= df_balanced['label'])## Write your code here\n",
    "\n",
    "print(f\"{len(train_imgs):,} Training imgs\")\n",
    "print(f\"{len(val_imgs):,} Validation imgs\")"
   ]
  },
  {
   "cell_type": "markdown",
   "metadata": {},
   "source": [
    "### Check Validation labels ... should be equal"
   ]
  },
  {
   "cell_type": "markdown",
   "metadata": {},
   "source": [
    "### Dataset instances for Train, Val & Test"
   ]
  },
  {
   "cell_type": "code",
   "execution_count": 25,
   "metadata": {
    "execution": {
     "iopub.execute_input": "2021-08-29T17:57:13.319687Z",
     "iopub.status.busy": "2021-08-29T17:57:13.319318Z",
     "iopub.status.idle": "2021-08-29T17:57:13.329859Z",
     "shell.execute_reply": "2021-08-29T17:57:13.328616Z",
     "shell.execute_reply.started": "2021-08-29T17:57:13.319652Z"
    }
   },
   "outputs": [
    {
     "data": {
      "text/plain": [
       "0      ../input/chest-xray-pneumonia/chest_xray/test/...\n",
       "1      ../input/chest-xray-pneumonia/chest_xray/test/...\n",
       "2      ../input/chest-xray-pneumonia/chest_xray/test/...\n",
       "3      ../input/chest-xray-pneumonia/chest_xray/test/...\n",
       "4      ../input/chest-xray-pneumonia/chest_xray/test/...\n",
       "                             ...                        \n",
       "619    ../input/chest-xray-pneumonia/chest_xray/test/...\n",
       "620    ../input/chest-xray-pneumonia/chest_xray/test/...\n",
       "621    ../input/chest-xray-pneumonia/chest_xray/test/...\n",
       "622    ../input/chest-xray-pneumonia/chest_xray/test/...\n",
       "623    ../input/chest-xray-pneumonia/chest_xray/test/...\n",
       "Name: image_path, Length: 624, dtype: object"
      ]
     },
     "execution_count": 25,
     "metadata": {},
     "output_type": "execute_result"
    }
   ],
   "source": [
    "df_test.image_path"
   ]
  },
  {
   "cell_type": "code",
   "execution_count": 26,
   "metadata": {
    "execution": {
     "iopub.execute_input": "2021-08-29T17:57:13.331973Z",
     "iopub.status.busy": "2021-08-29T17:57:13.331549Z",
     "iopub.status.idle": "2021-08-29T17:57:13.336892Z",
     "shell.execute_reply": "2021-08-29T17:57:13.335782Z",
     "shell.execute_reply.started": "2021-08-29T17:57:13.331937Z"
    }
   },
   "outputs": [],
   "source": [
    "#self, img_paths, targets, transform=None\n",
    "train_dataset = Dataset(train_imgs,train_labels,transform=TR)## Write your code here\n",
    "val_dataset = Dataset(val_imgs,val_labels,transform=TR)## Write your code here\n",
    "test_dataset = Dataset(df_test.image_path,df_test.label,transform=TR)## Write your code here"
   ]
  },
  {
   "cell_type": "markdown",
   "metadata": {},
   "source": [
    "### Data-Loader"
   ]
  },
  {
   "cell_type": "code",
   "execution_count": 27,
   "metadata": {
    "execution": {
     "iopub.execute_input": "2021-08-29T17:57:13.339067Z",
     "iopub.status.busy": "2021-08-29T17:57:13.338590Z",
     "iopub.status.idle": "2021-08-29T17:57:13.346530Z",
     "shell.execute_reply": "2021-08-29T17:57:13.345680Z",
     "shell.execute_reply.started": "2021-08-29T17:57:13.338951Z"
    }
   },
   "outputs": [],
   "source": [
    "train_batches = DataLoader(train_dataset, batch_size = BATCH_SIZE, shuffle=True)## Write your code here\n",
    "val_batches = DataLoader(val_dataset, batch_size = BATCH_SIZE, shuffle=True)## Write your code here\n",
    "test_batches = DataLoader(test_dataset, batch_size = BATCH_SIZE, shuffle=True)## Write your code here"
   ]
  },
  {
   "cell_type": "markdown",
   "metadata": {},
   "source": [
    "### Initialize your model, optimizer"
   ]
  },
  {
   "cell_type": "code",
   "execution_count": 28,
   "metadata": {
    "execution": {
     "iopub.execute_input": "2021-08-29T17:57:13.348434Z",
     "iopub.status.busy": "2021-08-29T17:57:13.347977Z",
     "iopub.status.idle": "2021-08-29T17:57:13.688858Z",
     "shell.execute_reply": "2021-08-29T17:57:13.688003Z",
     "shell.execute_reply.started": "2021-08-29T17:57:13.348397Z"
    }
   },
   "outputs": [],
   "source": [
    "model = XrayClassifier()## Write your code here\n",
    "optim = optim.Adam(model.parameters())## Write your code here # Note: Try with different optimizers and see how it affect the results..."
   ]
  },
  {
   "cell_type": "code",
   "execution_count": 29,
   "metadata": {
    "execution": {
     "iopub.execute_input": "2021-08-29T17:57:13.690566Z",
     "iopub.status.busy": "2021-08-29T17:57:13.690226Z",
     "iopub.status.idle": "2021-08-29T17:57:13.695638Z",
     "shell.execute_reply": "2021-08-29T17:57:13.694453Z",
     "shell.execute_reply.started": "2021-08-29T17:57:13.690531Z"
    }
   },
   "outputs": [],
   "source": [
    "## Create History For saving your losses and accuraciesXrayClassifier\n",
    "history= {}\n",
    "history['train_loss'] = []\n",
    "history['val_loss'] = []\n",
    "history['train_acc'] = []\n",
    "history['val_acc'] = []"
   ]
  },
  {
   "cell_type": "markdown",
   "metadata": {},
   "source": [
    "### Training Loop"
   ]
  },
  {
   "cell_type": "code",
   "execution_count": 30,
   "metadata": {
    "execution": {
     "iopub.execute_input": "2021-08-29T17:57:13.697618Z",
     "iopub.status.busy": "2021-08-29T17:57:13.697173Z",
     "iopub.status.idle": "2021-08-29T17:57:13.897708Z",
     "shell.execute_reply": "2021-08-29T17:57:13.895294Z",
     "shell.execute_reply.started": "2021-08-29T17:57:13.697581Z"
    }
   },
   "outputs": [
    {
     "name": "stderr",
     "output_type": "stream",
     "text": [
      "  0%|          | 0/68 [00:00<?, ?it/s]\n"
     ]
    },
    {
     "ename": "AttributeError",
     "evalue": "'Tensor' object has no attribute 'astype'",
     "output_type": "error",
     "traceback": [
      "\u001b[0;31m---------------------------------------------------------------------------\u001b[0m",
      "\u001b[0;31mAttributeError\u001b[0m                            Traceback (most recent call last)",
      "\u001b[0;32m<ipython-input-30-1f53d26fccdb>\u001b[0m in \u001b[0;36m<module>\u001b[0;34m\u001b[0m\n\u001b[1;32m      2\u001b[0m         \u001b[0ms\u001b[0m \u001b[0;34m=\u001b[0m \u001b[0mtime\u001b[0m\u001b[0;34m(\u001b[0m\u001b[0;34m)\u001b[0m\u001b[0;34m\u001b[0m\u001b[0;34m\u001b[0m\u001b[0m\n\u001b[1;32m      3\u001b[0m         \u001b[0;31m# train\u001b[0m\u001b[0;34m\u001b[0m\u001b[0;34m\u001b[0m\u001b[0;34m\u001b[0m\u001b[0m\n\u001b[0;32m----> 4\u001b[0;31m         \u001b[0mep_train_loss\u001b[0m\u001b[0;34m,\u001b[0m \u001b[0mep_train_acc\u001b[0m \u001b[0;34m=\u001b[0m \u001b[0mtrain_fn\u001b[0m\u001b[0;34m(\u001b[0m\u001b[0mtrain_batches\u001b[0m\u001b[0;34m,\u001b[0m \u001b[0mmodel\u001b[0m\u001b[0;34m,\u001b[0m \u001b[0moptim\u001b[0m\u001b[0;34m)\u001b[0m\u001b[0;34m\u001b[0m\u001b[0;34m\u001b[0m\u001b[0m\n\u001b[0m\u001b[1;32m      5\u001b[0m         \u001b[0;31m# eval\u001b[0m\u001b[0;34m\u001b[0m\u001b[0;34m\u001b[0m\u001b[0;34m\u001b[0m\u001b[0m\n\u001b[1;32m      6\u001b[0m         \u001b[0mep_val_loss\u001b[0m\u001b[0;34m,\u001b[0m \u001b[0mep_val_acc\u001b[0m \u001b[0;34m=\u001b[0m \u001b[0meval_fn\u001b[0m\u001b[0;34m(\u001b[0m\u001b[0mval_batches\u001b[0m\u001b[0;34m,\u001b[0m \u001b[0mmodel\u001b[0m\u001b[0;34m)\u001b[0m\u001b[0;34m\u001b[0m\u001b[0;34m\u001b[0m\u001b[0m\n",
      "\u001b[0;32m<ipython-input-14-058d5ea7ecc7>\u001b[0m in \u001b[0;36mtrain_fn\u001b[0;34m(batches, model, optim, device)\u001b[0m\n\u001b[1;32m      4\u001b[0m     \u001b[0mep_loss\u001b[0m \u001b[0;34m=\u001b[0m \u001b[0;36m0\u001b[0m\u001b[0;34m\u001b[0m\u001b[0;34m\u001b[0m\u001b[0m\n\u001b[1;32m      5\u001b[0m     \u001b[0;31m# Loop through the training batches\u001b[0m\u001b[0;34m\u001b[0m\u001b[0;34m\u001b[0m\u001b[0;34m\u001b[0m\u001b[0m\n\u001b[0;32m----> 6\u001b[0;31m     \u001b[0;32mfor\u001b[0m \u001b[0mbatch\u001b[0m \u001b[0;32min\u001b[0m \u001b[0mtqdm\u001b[0m\u001b[0;34m(\u001b[0m\u001b[0mbatches\u001b[0m\u001b[0;34m,\u001b[0m \u001b[0mtotal\u001b[0m\u001b[0;34m=\u001b[0m\u001b[0mlen\u001b[0m\u001b[0;34m(\u001b[0m\u001b[0mbatches\u001b[0m\u001b[0;34m)\u001b[0m\u001b[0;34m,\u001b[0m \u001b[0mposition\u001b[0m\u001b[0;34m=\u001b[0m\u001b[0;36m0\u001b[0m\u001b[0;34m,\u001b[0m \u001b[0mleave\u001b[0m\u001b[0;34m=\u001b[0m\u001b[0;32mTrue\u001b[0m\u001b[0;34m)\u001b[0m\u001b[0;34m:\u001b[0m\u001b[0;34m\u001b[0m\u001b[0;34m\u001b[0m\u001b[0m\n\u001b[0m\u001b[1;32m      7\u001b[0m \u001b[0;34m\u001b[0m\u001b[0m\n\u001b[1;32m      8\u001b[0m         \u001b[0mimgs\u001b[0m\u001b[0;34m,\u001b[0m \u001b[0mlabels\u001b[0m \u001b[0;34m=\u001b[0m \u001b[0mbatch\u001b[0m\u001b[0;31m# Get Your image and targets from the given batch\u001b[0m\u001b[0;34m\u001b[0m\u001b[0;34m\u001b[0m\u001b[0m\n",
      "\u001b[0;32m/opt/conda/lib/python3.7/site-packages/tqdm/std.py\u001b[0m in \u001b[0;36m__iter__\u001b[0;34m(self)\u001b[0m\n\u001b[1;32m   1176\u001b[0m \u001b[0;34m\u001b[0m\u001b[0m\n\u001b[1;32m   1177\u001b[0m         \u001b[0;32mtry\u001b[0m\u001b[0;34m:\u001b[0m\u001b[0;34m\u001b[0m\u001b[0;34m\u001b[0m\u001b[0m\n\u001b[0;32m-> 1178\u001b[0;31m             \u001b[0;32mfor\u001b[0m \u001b[0mobj\u001b[0m \u001b[0;32min\u001b[0m \u001b[0miterable\u001b[0m\u001b[0;34m:\u001b[0m\u001b[0;34m\u001b[0m\u001b[0;34m\u001b[0m\u001b[0m\n\u001b[0m\u001b[1;32m   1179\u001b[0m                 \u001b[0;32myield\u001b[0m \u001b[0mobj\u001b[0m\u001b[0;34m\u001b[0m\u001b[0;34m\u001b[0m\u001b[0m\n\u001b[1;32m   1180\u001b[0m                 \u001b[0;31m# Update and possibly print the progressbar.\u001b[0m\u001b[0;34m\u001b[0m\u001b[0;34m\u001b[0m\u001b[0;34m\u001b[0m\u001b[0m\n",
      "\u001b[0;32m/opt/conda/lib/python3.7/site-packages/torch/utils/data/dataloader.py\u001b[0m in \u001b[0;36m__next__\u001b[0;34m(self)\u001b[0m\n\u001b[1;32m    433\u001b[0m         \u001b[0;32mif\u001b[0m \u001b[0mself\u001b[0m\u001b[0;34m.\u001b[0m\u001b[0m_sampler_iter\u001b[0m \u001b[0;32mis\u001b[0m \u001b[0;32mNone\u001b[0m\u001b[0;34m:\u001b[0m\u001b[0;34m\u001b[0m\u001b[0;34m\u001b[0m\u001b[0m\n\u001b[1;32m    434\u001b[0m             \u001b[0mself\u001b[0m\u001b[0;34m.\u001b[0m\u001b[0m_reset\u001b[0m\u001b[0;34m(\u001b[0m\u001b[0;34m)\u001b[0m\u001b[0;34m\u001b[0m\u001b[0;34m\u001b[0m\u001b[0m\n\u001b[0;32m--> 435\u001b[0;31m         \u001b[0mdata\u001b[0m \u001b[0;34m=\u001b[0m \u001b[0mself\u001b[0m\u001b[0;34m.\u001b[0m\u001b[0m_next_data\u001b[0m\u001b[0;34m(\u001b[0m\u001b[0;34m)\u001b[0m\u001b[0;34m\u001b[0m\u001b[0;34m\u001b[0m\u001b[0m\n\u001b[0m\u001b[1;32m    436\u001b[0m         \u001b[0mself\u001b[0m\u001b[0;34m.\u001b[0m\u001b[0m_num_yielded\u001b[0m \u001b[0;34m+=\u001b[0m \u001b[0;36m1\u001b[0m\u001b[0;34m\u001b[0m\u001b[0;34m\u001b[0m\u001b[0m\n\u001b[1;32m    437\u001b[0m         \u001b[0;32mif\u001b[0m \u001b[0mself\u001b[0m\u001b[0;34m.\u001b[0m\u001b[0m_dataset_kind\u001b[0m \u001b[0;34m==\u001b[0m \u001b[0m_DatasetKind\u001b[0m\u001b[0;34m.\u001b[0m\u001b[0mIterable\u001b[0m \u001b[0;32mand\u001b[0m\u001b[0;31m \u001b[0m\u001b[0;31m\\\u001b[0m\u001b[0;34m\u001b[0m\u001b[0;34m\u001b[0m\u001b[0m\n",
      "\u001b[0;32m/opt/conda/lib/python3.7/site-packages/torch/utils/data/dataloader.py\u001b[0m in \u001b[0;36m_next_data\u001b[0;34m(self)\u001b[0m\n\u001b[1;32m    473\u001b[0m     \u001b[0;32mdef\u001b[0m \u001b[0m_next_data\u001b[0m\u001b[0;34m(\u001b[0m\u001b[0mself\u001b[0m\u001b[0;34m)\u001b[0m\u001b[0;34m:\u001b[0m\u001b[0;34m\u001b[0m\u001b[0;34m\u001b[0m\u001b[0m\n\u001b[1;32m    474\u001b[0m         \u001b[0mindex\u001b[0m \u001b[0;34m=\u001b[0m \u001b[0mself\u001b[0m\u001b[0;34m.\u001b[0m\u001b[0m_next_index\u001b[0m\u001b[0;34m(\u001b[0m\u001b[0;34m)\u001b[0m  \u001b[0;31m# may raise StopIteration\u001b[0m\u001b[0;34m\u001b[0m\u001b[0;34m\u001b[0m\u001b[0m\n\u001b[0;32m--> 475\u001b[0;31m         \u001b[0mdata\u001b[0m \u001b[0;34m=\u001b[0m \u001b[0mself\u001b[0m\u001b[0;34m.\u001b[0m\u001b[0m_dataset_fetcher\u001b[0m\u001b[0;34m.\u001b[0m\u001b[0mfetch\u001b[0m\u001b[0;34m(\u001b[0m\u001b[0mindex\u001b[0m\u001b[0;34m)\u001b[0m  \u001b[0;31m# may raise StopIteration\u001b[0m\u001b[0;34m\u001b[0m\u001b[0;34m\u001b[0m\u001b[0m\n\u001b[0m\u001b[1;32m    476\u001b[0m         \u001b[0;32mif\u001b[0m \u001b[0mself\u001b[0m\u001b[0;34m.\u001b[0m\u001b[0m_pin_memory\u001b[0m\u001b[0;34m:\u001b[0m\u001b[0;34m\u001b[0m\u001b[0;34m\u001b[0m\u001b[0m\n\u001b[1;32m    477\u001b[0m             \u001b[0mdata\u001b[0m \u001b[0;34m=\u001b[0m \u001b[0m_utils\u001b[0m\u001b[0;34m.\u001b[0m\u001b[0mpin_memory\u001b[0m\u001b[0;34m.\u001b[0m\u001b[0mpin_memory\u001b[0m\u001b[0;34m(\u001b[0m\u001b[0mdata\u001b[0m\u001b[0;34m)\u001b[0m\u001b[0;34m\u001b[0m\u001b[0;34m\u001b[0m\u001b[0m\n",
      "\u001b[0;32m/opt/conda/lib/python3.7/site-packages/torch/utils/data/_utils/fetch.py\u001b[0m in \u001b[0;36mfetch\u001b[0;34m(self, possibly_batched_index)\u001b[0m\n\u001b[1;32m     42\u001b[0m     \u001b[0;32mdef\u001b[0m \u001b[0mfetch\u001b[0m\u001b[0;34m(\u001b[0m\u001b[0mself\u001b[0m\u001b[0;34m,\u001b[0m \u001b[0mpossibly_batched_index\u001b[0m\u001b[0;34m)\u001b[0m\u001b[0;34m:\u001b[0m\u001b[0;34m\u001b[0m\u001b[0;34m\u001b[0m\u001b[0m\n\u001b[1;32m     43\u001b[0m         \u001b[0;32mif\u001b[0m \u001b[0mself\u001b[0m\u001b[0;34m.\u001b[0m\u001b[0mauto_collation\u001b[0m\u001b[0;34m:\u001b[0m\u001b[0;34m\u001b[0m\u001b[0;34m\u001b[0m\u001b[0m\n\u001b[0;32m---> 44\u001b[0;31m             \u001b[0mdata\u001b[0m \u001b[0;34m=\u001b[0m \u001b[0;34m[\u001b[0m\u001b[0mself\u001b[0m\u001b[0;34m.\u001b[0m\u001b[0mdataset\u001b[0m\u001b[0;34m[\u001b[0m\u001b[0midx\u001b[0m\u001b[0;34m]\u001b[0m \u001b[0;32mfor\u001b[0m \u001b[0midx\u001b[0m \u001b[0;32min\u001b[0m \u001b[0mpossibly_batched_index\u001b[0m\u001b[0;34m]\u001b[0m\u001b[0;34m\u001b[0m\u001b[0;34m\u001b[0m\u001b[0m\n\u001b[0m\u001b[1;32m     45\u001b[0m         \u001b[0;32melse\u001b[0m\u001b[0;34m:\u001b[0m\u001b[0;34m\u001b[0m\u001b[0;34m\u001b[0m\u001b[0m\n\u001b[1;32m     46\u001b[0m             \u001b[0mdata\u001b[0m \u001b[0;34m=\u001b[0m \u001b[0mself\u001b[0m\u001b[0;34m.\u001b[0m\u001b[0mdataset\u001b[0m\u001b[0;34m[\u001b[0m\u001b[0mpossibly_batched_index\u001b[0m\u001b[0;34m]\u001b[0m\u001b[0;34m\u001b[0m\u001b[0;34m\u001b[0m\u001b[0m\n",
      "\u001b[0;32m/opt/conda/lib/python3.7/site-packages/torch/utils/data/_utils/fetch.py\u001b[0m in \u001b[0;36m<listcomp>\u001b[0;34m(.0)\u001b[0m\n\u001b[1;32m     42\u001b[0m     \u001b[0;32mdef\u001b[0m \u001b[0mfetch\u001b[0m\u001b[0;34m(\u001b[0m\u001b[0mself\u001b[0m\u001b[0;34m,\u001b[0m \u001b[0mpossibly_batched_index\u001b[0m\u001b[0;34m)\u001b[0m\u001b[0;34m:\u001b[0m\u001b[0;34m\u001b[0m\u001b[0;34m\u001b[0m\u001b[0m\n\u001b[1;32m     43\u001b[0m         \u001b[0;32mif\u001b[0m \u001b[0mself\u001b[0m\u001b[0;34m.\u001b[0m\u001b[0mauto_collation\u001b[0m\u001b[0;34m:\u001b[0m\u001b[0;34m\u001b[0m\u001b[0;34m\u001b[0m\u001b[0m\n\u001b[0;32m---> 44\u001b[0;31m             \u001b[0mdata\u001b[0m \u001b[0;34m=\u001b[0m \u001b[0;34m[\u001b[0m\u001b[0mself\u001b[0m\u001b[0;34m.\u001b[0m\u001b[0mdataset\u001b[0m\u001b[0;34m[\u001b[0m\u001b[0midx\u001b[0m\u001b[0;34m]\u001b[0m \u001b[0;32mfor\u001b[0m \u001b[0midx\u001b[0m \u001b[0;32min\u001b[0m \u001b[0mpossibly_batched_index\u001b[0m\u001b[0;34m]\u001b[0m\u001b[0;34m\u001b[0m\u001b[0;34m\u001b[0m\u001b[0m\n\u001b[0m\u001b[1;32m     45\u001b[0m         \u001b[0;32melse\u001b[0m\u001b[0;34m:\u001b[0m\u001b[0;34m\u001b[0m\u001b[0;34m\u001b[0m\u001b[0m\n\u001b[1;32m     46\u001b[0m             \u001b[0mdata\u001b[0m \u001b[0;34m=\u001b[0m \u001b[0mself\u001b[0m\u001b[0;34m.\u001b[0m\u001b[0mdataset\u001b[0m\u001b[0;34m[\u001b[0m\u001b[0mpossibly_batched_index\u001b[0m\u001b[0;34m]\u001b[0m\u001b[0;34m\u001b[0m\u001b[0;34m\u001b[0m\u001b[0m\n",
      "\u001b[0;32m<ipython-input-18-2d73024df5e4>\u001b[0m in \u001b[0;36m__getitem__\u001b[0;34m(self, item)\u001b[0m\n\u001b[1;32m     16\u001b[0m         \u001b[0;32mif\u001b[0m \u001b[0mself\u001b[0m\u001b[0;34m.\u001b[0m\u001b[0mtransform\u001b[0m \u001b[0;32mis\u001b[0m \u001b[0;32mnot\u001b[0m \u001b[0;32mNone\u001b[0m\u001b[0;34m:\u001b[0m\u001b[0;34m\u001b[0m\u001b[0;34m\u001b[0m\u001b[0m\n\u001b[1;32m     17\u001b[0m             \u001b[0mimage\u001b[0m \u001b[0;34m=\u001b[0m \u001b[0mself\u001b[0m\u001b[0;34m.\u001b[0m\u001b[0mtransform\u001b[0m\u001b[0;34m(\u001b[0m\u001b[0mimage\u001b[0m\u001b[0;34m)\u001b[0m\u001b[0;34m\u001b[0m\u001b[0;34m\u001b[0m\u001b[0m\n\u001b[0;32m---> 18\u001b[0;31m         \u001b[0mimage\u001b[0m \u001b[0;34m=\u001b[0m \u001b[0mnp\u001b[0m\u001b[0;34m.\u001b[0m\u001b[0mtranspose\u001b[0m\u001b[0;34m(\u001b[0m\u001b[0mimage\u001b[0m\u001b[0;34m,\u001b[0m\u001b[0;34m(\u001b[0m\u001b[0;36m2\u001b[0m\u001b[0;34m,\u001b[0m\u001b[0;36m0\u001b[0m\u001b[0;34m,\u001b[0m\u001b[0;36m1\u001b[0m\u001b[0;34m)\u001b[0m\u001b[0;34m)\u001b[0m\u001b[0;34m.\u001b[0m\u001b[0mastype\u001b[0m\u001b[0;34m(\u001b[0m\u001b[0mnp\u001b[0m\u001b[0;34m.\u001b[0m\u001b[0mfloat32\u001b[0m\u001b[0;34m)\u001b[0m\u001b[0;34m\u001b[0m\u001b[0;34m\u001b[0m\u001b[0m\n\u001b[0m\u001b[1;32m     19\u001b[0m \u001b[0;34m\u001b[0m\u001b[0m\n\u001b[1;32m     20\u001b[0m         return {\n",
      "\u001b[0;31mAttributeError\u001b[0m: 'Tensor' object has no attribute 'astype'"
     ]
    }
   ],
   "source": [
    "for epoch in range(EPOCHS):\n",
    "        s = time()\n",
    "        # train\n",
    "        ep_train_loss, ep_train_acc = train_fn(train_batches, model, optim)\n",
    "        # eval\n",
    "        ep_val_loss, ep_val_acc = eval_fn(val_batches, model)\n",
    "        e = time()\n",
    "\n",
    "        epoch_t = remainig_time(e - s)\n",
    "        whole_time = remainig_time((e - s) * (EPOCHS - epoch))\n",
    "        print(f\"\\nEpoch:{epoch}/{EPOCHS}---Loss-train:{ep_train_loss:.4f}---Loss-Val: {ep_val_loss:.4f}---Acc-Train:{(ep_train_acc*100):.2f}%---Acc-Val: {(ep_val_acc*100):.2f}%---Acc-Test: {(ep_test_acc*100):.2f}---%epoch elapsed:{epoch_t}---Remaining:{whole_time}\")\n",
    "        \n",
    "        ## Write your code here ## append the training loss\n",
    "        ## Write your code here ## append the validation loss\n",
    "        ## Write your code here ## append the training acc\n",
    "        ## Write your code here ## append the validation acc\n",
    "\n",
    "        if ep_val_acc > MIN_ACC:\n",
    "            print(\"Saving Model ...\")\n",
    "            model_name = f'Xray_ep_{epoch}_acc_{(ep_test_acc*100):.3f}_.pth'\n",
    "            MIN_ACC = ep_test_acc\n",
    "            # Save Your model Checkpoint\n",
    "            ## Write your code here"
   ]
  },
  {
   "cell_type": "markdown",
   "metadata": {},
   "source": [
    "## Prediction"
   ]
  },
  {
   "cell_type": "code",
   "execution_count": null,
   "metadata": {
    "execution": {
     "iopub.status.busy": "2021-08-29T17:57:13.898424Z",
     "iopub.status.idle": "2021-08-29T17:57:13.898804Z"
    }
   },
   "outputs": [],
   "source": [
    "MODEL_PATH = '' # Get your model path\n",
    "checkpoint = load_model(MODEL_PATH)\n",
    "model.load_state_dict(checkpoint['model_state_dict']) # Just loading the model weights"
   ]
  },
  {
   "cell_type": "code",
   "execution_count": null,
   "metadata": {
    "execution": {
     "iopub.status.busy": "2021-08-29T17:57:13.899903Z",
     "iopub.status.idle": "2021-08-29T17:57:13.900523Z"
    }
   },
   "outputs": [],
   "source": [
    "preds, labels = pred_fn(test_batches, model)"
   ]
  },
  {
   "cell_type": "code",
   "execution_count": null,
   "metadata": {
    "execution": {
     "iopub.status.busy": "2021-08-29T17:57:13.901520Z",
     "iopub.status.idle": "2021-08-29T17:57:13.902154Z"
    }
   },
   "outputs": [],
   "source": [
    "print(f\"Accuracy: {(np.array(preds) == np.array(labels)).mean()*100:.1f}% On Test Set\")"
   ]
  },
  {
   "cell_type": "code",
   "execution_count": null,
   "metadata": {
    "execution": {
     "iopub.status.busy": "2021-08-29T17:57:13.903292Z",
     "iopub.status.idle": "2021-08-29T17:57:13.903896Z"
    }
   },
   "outputs": [],
   "source": [
    "print(classification_report(labels, preds, target_names=CLASSES))"
   ]
  },
  {
   "cell_type": "markdown",
   "metadata": {},
   "source": [
    "### Create a confusion matrix and plot it"
   ]
  },
  {
   "cell_type": "code",
   "execution_count": null,
   "metadata": {
    "execution": {
     "iopub.status.busy": "2021-08-29T17:57:13.904945Z",
     "iopub.status.idle": "2021-08-29T17:57:13.905570Z"
    }
   },
   "outputs": [],
   "source": [
    "## Write your code here"
   ]
  },
  {
   "cell_type": "markdown",
   "metadata": {},
   "source": [
    "# Great Work ... 💪💪"
   ]
  },
  {
   "cell_type": "markdown",
   "metadata": {},
   "source": [
    "Now you're able to get and start applying your various types of ***DL approches*** and ***compete with many Kagglers***\n",
    "There exist huge amount of images data out there ... that you're now able to give it a try and apply your own model on ... Good Start 👍👍😊"
   ]
  }
 ],
 "metadata": {
  "kernelspec": {
   "display_name": "Python 3 (ipykernel)",
   "language": "python",
   "name": "python3"
  },
  "language_info": {
   "codemirror_mode": {
    "name": "ipython",
    "version": 3
   },
   "file_extension": ".py",
   "mimetype": "text/x-python",
   "name": "python",
   "nbconvert_exporter": "python",
   "pygments_lexer": "ipython3",
   "version": "3.8.11"
  }
 },
 "nbformat": 4,
 "nbformat_minor": 4
}
